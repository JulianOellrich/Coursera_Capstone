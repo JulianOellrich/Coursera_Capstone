{
 "cells": [
  {
   "cell_type": "markdown",
   "metadata": {},
   "source": [
    "<h1>Segmenting and Clustering Troronto Neighborhoods</h1>"
   ]
  },
  {
   "cell_type": "markdown",
   "metadata": {},
   "source": [
    "This Project is part of the IBM Data Science Professional Certificate Caoptone."
   ]
  },
  {
   "cell_type": "markdown",
   "metadata": {},
   "source": [
    "<b>Author</b>: Julian Oellrich"
   ]
  },
  {
   "cell_type": "markdown",
   "metadata": {},
   "source": [
    "<h2 id=\"libraries\">1. Setup and Libraries</h2>"
   ]
  },
  {
   "cell_type": "markdown",
   "metadata": {},
   "source": [
    "Import Libraries"
   ]
  },
  {
   "cell_type": "code",
   "execution_count": 79,
   "metadata": {},
   "outputs": [
    {
     "name": "stdout",
     "output_type": "stream",
     "text": [
      "Libraries imported!\n"
     ]
    }
   ],
   "source": [
    "# Comuptation Libraries\n",
    "import pandas as pd\n",
    "import numpy as np\n",
    "\n",
    "# API Communication\n",
    "import json\n",
    "import requests\n",
    "\n",
    "# Plotting \n",
    "import matplotlib.pyplot as plt\n",
    "import matplotlib.cm as cm\n",
    "import matplotlib.colors as colors\n",
    "\n",
    "# Maps and geocoding\n",
    "from geopy.geocoders import Nominatim # convert an address into latitude and longitude values\n",
    "import folium\n",
    "\n",
    "# ML Algorithms\n",
    "from sklearn.preprocessing import StandardScaler\n",
    "from sklearn.cluster import KMeans\n",
    "\n",
    "# json & API\n",
    "import json, lxml\n",
    "from pandas.io.json import json_normalize # tranform JSON file into a pandas dataframe\n",
    "\n",
    "# data scrping modules\n",
    "from bs4 import BeautifulSoup\n",
    "import warnings\n",
    "warnings.filterwarnings('ignore')\n",
    "\n",
    "# Print Statement\n",
    "print('Libraries imported!')"
   ]
  },
  {
   "cell_type": "markdown",
   "metadata": {},
   "source": [
    "<h2 id=\"data_import\">2. Data Import</h2>"
   ]
  },
  {
   "cell_type": "markdown",
   "metadata": {},
   "source": [
    "<h3>Scrape Data from Wikipedia</h3>"
   ]
  },
  {
   "cell_type": "markdown",
   "metadata": {},
   "source": [
    "Scraping the data from wikipedia page with BeautifulSoup Librariy"
   ]
  },
  {
   "cell_type": "code",
   "execution_count": 80,
   "metadata": {},
   "outputs": [],
   "source": [
    "url = 'https://en.wikipedia.org/wiki/List_of_postal_codes_of_Canada:_M'\n",
    "source = requests.get(url).text\n",
    "soup = BeautifulSoup(source)"
   ]
  },
  {
   "cell_type": "markdown",
   "metadata": {},
   "source": [
    "Extracting data from table on Wikipedia page"
   ]
  },
  {
   "cell_type": "code",
   "execution_count": 81,
   "metadata": {},
   "outputs": [],
   "source": [
    "table_data = soup.find('div', class_='mw-parser-output')\n",
    "table = table_data.table.tbody"
   ]
  },
  {
   "cell_type": "markdown",
   "metadata": {},
   "source": [
    "Write Table data into new dataframe"
   ]
  },
  {
   "cell_type": "code",
   "execution_count": 82,
   "metadata": {},
   "outputs": [
    {
     "name": "stdout",
     "output_type": "stream",
     "text": [
      "(180, 3)\n"
     ]
    },
    {
     "data": {
      "text/html": [
       "<div>\n",
       "<style scoped>\n",
       "    .dataframe tbody tr th:only-of-type {\n",
       "        vertical-align: middle;\n",
       "    }\n",
       "\n",
       "    .dataframe tbody tr th {\n",
       "        vertical-align: top;\n",
       "    }\n",
       "\n",
       "    .dataframe thead th {\n",
       "        text-align: right;\n",
       "    }\n",
       "</style>\n",
       "<table border=\"1\" class=\"dataframe\">\n",
       "  <thead>\n",
       "    <tr style=\"text-align: right;\">\n",
       "      <th></th>\n",
       "      <th>PostalCode</th>\n",
       "      <th>Borough</th>\n",
       "      <th>Neighbourhood</th>\n",
       "    </tr>\n",
       "  </thead>\n",
       "  <tbody>\n",
       "    <tr>\n",
       "      <th>0</th>\n",
       "      <td>M1A</td>\n",
       "      <td>Not assigned</td>\n",
       "      <td>Not assigned</td>\n",
       "    </tr>\n",
       "    <tr>\n",
       "      <th>1</th>\n",
       "      <td>M2A</td>\n",
       "      <td>Not assigned</td>\n",
       "      <td>Not assigned</td>\n",
       "    </tr>\n",
       "    <tr>\n",
       "      <th>2</th>\n",
       "      <td>M3A</td>\n",
       "      <td>North York</td>\n",
       "      <td>Parkwoods</td>\n",
       "    </tr>\n",
       "    <tr>\n",
       "      <th>3</th>\n",
       "      <td>M4A</td>\n",
       "      <td>North York</td>\n",
       "      <td>Victoria Village</td>\n",
       "    </tr>\n",
       "    <tr>\n",
       "      <th>4</th>\n",
       "      <td>M5A</td>\n",
       "      <td>Downtown Toronto</td>\n",
       "      <td>Regent Park, Harbourfront</td>\n",
       "    </tr>\n",
       "    <tr>\n",
       "      <th>5</th>\n",
       "      <td>M6A</td>\n",
       "      <td>North York</td>\n",
       "      <td>Lawrence Manor, Lawrence Heights</td>\n",
       "    </tr>\n",
       "    <tr>\n",
       "      <th>6</th>\n",
       "      <td>M7A</td>\n",
       "      <td>Downtown Toronto</td>\n",
       "      <td>Queen's Park, Ontario Provincial Government</td>\n",
       "    </tr>\n",
       "    <tr>\n",
       "      <th>7</th>\n",
       "      <td>M8A</td>\n",
       "      <td>Not assigned</td>\n",
       "      <td>Not assigned</td>\n",
       "    </tr>\n",
       "    <tr>\n",
       "      <th>8</th>\n",
       "      <td>M9A</td>\n",
       "      <td>Etobicoke</td>\n",
       "      <td>Islington Avenue, Humber Valley Village</td>\n",
       "    </tr>\n",
       "    <tr>\n",
       "      <th>9</th>\n",
       "      <td>M1B</td>\n",
       "      <td>Scarborough</td>\n",
       "      <td>Malvern, Rouge</td>\n",
       "    </tr>\n",
       "  </tbody>\n",
       "</table>\n",
       "</div>"
      ],
      "text/plain": [
       "  PostalCode           Borough                                Neighbourhood\n",
       "0        M1A      Not assigned                                 Not assigned\n",
       "1        M2A      Not assigned                                 Not assigned\n",
       "2        M3A        North York                                    Parkwoods\n",
       "3        M4A        North York                             Victoria Village\n",
       "4        M5A  Downtown Toronto                    Regent Park, Harbourfront\n",
       "5        M6A        North York             Lawrence Manor, Lawrence Heights\n",
       "6        M7A  Downtown Toronto  Queen's Park, Ontario Provincial Government\n",
       "7        M8A      Not assigned                                 Not assigned\n",
       "8        M9A         Etobicoke      Islington Avenue, Humber Valley Village\n",
       "9        M1B       Scarborough                               Malvern, Rouge"
      ]
     },
     "execution_count": 82,
     "metadata": {},
     "output_type": "execute_result"
    }
   ],
   "source": [
    "columns = ['PostalCode', 'Borough', 'Neighbourhood']\n",
    "data = dict({key:[]*len(columns) for key in columns})\n",
    "\n",
    "for row in table.find_all('tr'):\n",
    "    for i,column in zip(row.find_all('td'),columns):\n",
    "        i = i.text\n",
    "        i = i.replace('\\n', '')\n",
    "        data[column].append(i)\n",
    "\n",
    "df = pd.DataFrame.from_dict(data=data)[columns]\n",
    "print(df.shape)\n",
    "df.head(10)"
   ]
  },
  {
   "cell_type": "markdown",
   "metadata": {},
   "source": [
    "<h3>Clean Data</h3>"
   ]
  },
  {
   "cell_type": "markdown",
   "metadata": {},
   "source": [
    "<h4>Remove not assigned Boroughs</h4>"
   ]
  },
  {
   "cell_type": "markdown",
   "metadata": {},
   "source": [
    "Only the cells that have an assigned borough should be processed. That means cells with a borough that is 'Not assigned' should be removed from the data frame."
   ]
  },
  {
   "cell_type": "markdown",
   "metadata": {},
   "source": [
    "1. The first step is to count how many rows have a 'Not assigned' Borough:"
   ]
  },
  {
   "cell_type": "code",
   "execution_count": 83,
   "metadata": {},
   "outputs": [
    {
     "name": "stdout",
     "output_type": "stream",
     "text": [
      "There are 77 rows where Borough is Not assigned\n"
     ]
    }
   ],
   "source": [
    "print_statement = 'There are {} rows where Borough is Not assigned'.format(\n",
    "    df[df['Borough'] == 'Not assigned'].shape[0])\n",
    "print(print_statement)"
   ]
  },
  {
   "cell_type": "markdown",
   "metadata": {},
   "source": [
    "2. Drop the rows where Borough is 'Not assigned' and write it into new dataframe df_cleaned"
   ]
  },
  {
   "cell_type": "code",
   "execution_count": 84,
   "metadata": {},
   "outputs": [
    {
     "data": {
      "text/html": [
       "<div>\n",
       "<style scoped>\n",
       "    .dataframe tbody tr th:only-of-type {\n",
       "        vertical-align: middle;\n",
       "    }\n",
       "\n",
       "    .dataframe tbody tr th {\n",
       "        vertical-align: top;\n",
       "    }\n",
       "\n",
       "    .dataframe thead th {\n",
       "        text-align: right;\n",
       "    }\n",
       "</style>\n",
       "<table border=\"1\" class=\"dataframe\">\n",
       "  <thead>\n",
       "    <tr style=\"text-align: right;\">\n",
       "      <th></th>\n",
       "      <th>PostalCode</th>\n",
       "      <th>Borough</th>\n",
       "      <th>Neighbourhood</th>\n",
       "    </tr>\n",
       "  </thead>\n",
       "  <tbody>\n",
       "    <tr>\n",
       "      <th>2</th>\n",
       "      <td>M3A</td>\n",
       "      <td>North York</td>\n",
       "      <td>Parkwoods</td>\n",
       "    </tr>\n",
       "    <tr>\n",
       "      <th>3</th>\n",
       "      <td>M4A</td>\n",
       "      <td>North York</td>\n",
       "      <td>Victoria Village</td>\n",
       "    </tr>\n",
       "    <tr>\n",
       "      <th>4</th>\n",
       "      <td>M5A</td>\n",
       "      <td>Downtown Toronto</td>\n",
       "      <td>Regent Park, Harbourfront</td>\n",
       "    </tr>\n",
       "    <tr>\n",
       "      <th>5</th>\n",
       "      <td>M6A</td>\n",
       "      <td>North York</td>\n",
       "      <td>Lawrence Manor, Lawrence Heights</td>\n",
       "    </tr>\n",
       "    <tr>\n",
       "      <th>6</th>\n",
       "      <td>M7A</td>\n",
       "      <td>Downtown Toronto</td>\n",
       "      <td>Queen's Park, Ontario Provincial Government</td>\n",
       "    </tr>\n",
       "  </tbody>\n",
       "</table>\n",
       "</div>"
      ],
      "text/plain": [
       "  PostalCode           Borough                                Neighbourhood\n",
       "2        M3A        North York                                    Parkwoods\n",
       "3        M4A        North York                             Victoria Village\n",
       "4        M5A  Downtown Toronto                    Regent Park, Harbourfront\n",
       "5        M6A        North York             Lawrence Manor, Lawrence Heights\n",
       "6        M7A  Downtown Toronto  Queen's Park, Ontario Provincial Government"
      ]
     },
     "execution_count": 84,
     "metadata": {},
     "output_type": "execute_result"
    }
   ],
   "source": [
    "df_cleaned = df.drop(df[df['Borough'] == 'Not assigned'].index) \n",
    "df_cleaned.head()"
   ]
  },
  {
   "cell_type": "markdown",
   "metadata": {},
   "source": [
    "3. Check if there are any rows with Not assigned Borough in the new dataframe"
   ]
  },
  {
   "cell_type": "code",
   "execution_count": 85,
   "metadata": {},
   "outputs": [
    {
     "name": "stdout",
     "output_type": "stream",
     "text": [
      "There are 0 rows where Borough is Not assigned\n"
     ]
    }
   ],
   "source": [
    "print_statement = 'There are {} rows where Borough is Not assigned'.format(\n",
    "    df_cleaned[df['Borough'] == 'Not assigned'].shape[0])\n",
    "print(print_statement)"
   ]
  },
  {
   "cell_type": "markdown",
   "metadata": {},
   "source": [
    "<h4>Fill in not assigned neighborhood</h4>"
   ]
  },
  {
   "cell_type": "markdown",
   "metadata": {},
   "source": [
    "If a cell has a borough but a 'Not assigned' neighborhood, then the neighborhood will be the same as the borough"
   ]
  },
  {
   "cell_type": "markdown",
   "metadata": {},
   "source": [
    "Let's check how many rows have a 'Not assigned' Neighbourhood:"
   ]
  },
  {
   "cell_type": "code",
   "execution_count": 86,
   "metadata": {},
   "outputs": [
    {
     "name": "stdout",
     "output_type": "stream",
     "text": [
      "There are 0 rows where Neighbourhood is Not assigned\n"
     ]
    }
   ],
   "source": [
    "print_statement = 'There are {} rows where Neighbourhood is Not assigned'.format(\n",
    "    df_cleaned[df_cleaned['Neighbourhood'] == 'Not assigned'].shape[0])\n",
    "print(print_statement)"
   ]
  },
  {
   "cell_type": "markdown",
   "metadata": {},
   "source": [
    "<b>Conclusion:</b> It shows, that there are <b> no rows</b> with 'Not assigned' Neighbourhood but assigned Borough"
   ]
  },
  {
   "cell_type": "markdown",
   "metadata": {},
   "source": [
    "<h4>Check duplicate Postalcodes</h4>"
   ]
  },
  {
   "cell_type": "code",
   "execution_count": 87,
   "metadata": {},
   "outputs": [
    {
     "data": {
      "text/plain": [
       "False    103\n",
       "Name: duplicate bool, dtype: int64"
      ]
     },
     "execution_count": 87,
     "metadata": {},
     "output_type": "execute_result"
    }
   ],
   "source": [
    "# create new test dataframe with only neighbourhoods and postal codes\n",
    "df_neigh = df_cleaned[['PostalCode','Neighbourhood']]\n",
    "\n",
    "# check Postalcode duplicates and create new bool column that marks duplicates with True\n",
    "df_neigh['duplicate bool'] = df_neigh['PostalCode'].duplicated(keep = 'first')\n",
    "\n",
    "# Output value count of duplicate PostalCode values\n",
    "df_neigh['duplicate bool'].value_counts()"
   ]
  },
  {
   "cell_type": "markdown",
   "metadata": {},
   "source": [
    "<b>Conclusion:</b> There are no duplicate PostCode values "
   ]
  },
  {
   "cell_type": "markdown",
   "metadata": {},
   "source": [
    "<h4>Final cleaned DataFrame</h4>"
   ]
  },
  {
   "cell_type": "markdown",
   "metadata": {},
   "source": [
    "Finally change the columnname 'PostalCode' to 'Postal Code'"
   ]
  },
  {
   "cell_type": "code",
   "execution_count": 88,
   "metadata": {},
   "outputs": [],
   "source": [
    "df_cleaned.rename(columns={'PostalCode': 'Postal Code'}, inplace = True)"
   ]
  },
  {
   "cell_type": "markdown",
   "metadata": {},
   "source": [
    "Write cleaned data to Dataframe df_toronto and print shape"
   ]
  },
  {
   "cell_type": "code",
   "execution_count": 89,
   "metadata": {},
   "outputs": [
    {
     "name": "stdout",
     "output_type": "stream",
     "text": [
      "\n",
      " The toronto dataframe has 103 rows and 3 columns \n",
      "\n"
     ]
    },
    {
     "data": {
      "text/html": [
       "<div>\n",
       "<style scoped>\n",
       "    .dataframe tbody tr th:only-of-type {\n",
       "        vertical-align: middle;\n",
       "    }\n",
       "\n",
       "    .dataframe tbody tr th {\n",
       "        vertical-align: top;\n",
       "    }\n",
       "\n",
       "    .dataframe thead th {\n",
       "        text-align: right;\n",
       "    }\n",
       "</style>\n",
       "<table border=\"1\" class=\"dataframe\">\n",
       "  <thead>\n",
       "    <tr style=\"text-align: right;\">\n",
       "      <th></th>\n",
       "      <th>Postal Code</th>\n",
       "      <th>Borough</th>\n",
       "      <th>Neighbourhood</th>\n",
       "    </tr>\n",
       "  </thead>\n",
       "  <tbody>\n",
       "    <tr>\n",
       "      <th>2</th>\n",
       "      <td>M3A</td>\n",
       "      <td>North York</td>\n",
       "      <td>Parkwoods</td>\n",
       "    </tr>\n",
       "    <tr>\n",
       "      <th>3</th>\n",
       "      <td>M4A</td>\n",
       "      <td>North York</td>\n",
       "      <td>Victoria Village</td>\n",
       "    </tr>\n",
       "    <tr>\n",
       "      <th>4</th>\n",
       "      <td>M5A</td>\n",
       "      <td>Downtown Toronto</td>\n",
       "      <td>Regent Park, Harbourfront</td>\n",
       "    </tr>\n",
       "    <tr>\n",
       "      <th>5</th>\n",
       "      <td>M6A</td>\n",
       "      <td>North York</td>\n",
       "      <td>Lawrence Manor, Lawrence Heights</td>\n",
       "    </tr>\n",
       "    <tr>\n",
       "      <th>6</th>\n",
       "      <td>M7A</td>\n",
       "      <td>Downtown Toronto</td>\n",
       "      <td>Queen's Park, Ontario Provincial Government</td>\n",
       "    </tr>\n",
       "  </tbody>\n",
       "</table>\n",
       "</div>"
      ],
      "text/plain": [
       "  Postal Code           Borough                                Neighbourhood\n",
       "2         M3A        North York                                    Parkwoods\n",
       "3         M4A        North York                             Victoria Village\n",
       "4         M5A  Downtown Toronto                    Regent Park, Harbourfront\n",
       "5         M6A        North York             Lawrence Manor, Lawrence Heights\n",
       "6         M7A  Downtown Toronto  Queen's Park, Ontario Provincial Government"
      ]
     },
     "execution_count": 89,
     "metadata": {},
     "output_type": "execute_result"
    }
   ],
   "source": [
    "print_statement = '\\n The toronto dataframe has {} rows and {} columns \\n'.format(df_cleaned.shape[0], df_cleaned.shape[1])\n",
    "print(print_statement)\n",
    "df_cleaned.head()"
   ]
  },
  {
   "cell_type": "markdown",
   "metadata": {},
   "source": [
    "<h2 id=\"geodata\">4. Geo-Data of Toronto Boroughs</h2>"
   ]
  },
  {
   "cell_type": "markdown",
   "metadata": {},
   "source": [
    "<h3>Import geospatial coordinates</h3>\n",
    "\n",
    "Import latitude and longitude data from csv file 'Toronto_Geospatial_Coordinates.csv' provided by Coursera"
   ]
  },
  {
   "cell_type": "code",
   "execution_count": 90,
   "metadata": {},
   "outputs": [
    {
     "data": {
      "text/html": [
       "<div>\n",
       "<style scoped>\n",
       "    .dataframe tbody tr th:only-of-type {\n",
       "        vertical-align: middle;\n",
       "    }\n",
       "\n",
       "    .dataframe tbody tr th {\n",
       "        vertical-align: top;\n",
       "    }\n",
       "\n",
       "    .dataframe thead th {\n",
       "        text-align: right;\n",
       "    }\n",
       "</style>\n",
       "<table border=\"1\" class=\"dataframe\">\n",
       "  <thead>\n",
       "    <tr style=\"text-align: right;\">\n",
       "      <th></th>\n",
       "      <th>Postal Code</th>\n",
       "      <th>Latitude</th>\n",
       "      <th>Longitude</th>\n",
       "    </tr>\n",
       "  </thead>\n",
       "  <tbody>\n",
       "    <tr>\n",
       "      <th>0</th>\n",
       "      <td>M1B</td>\n",
       "      <td>43.806686</td>\n",
       "      <td>-79.194353</td>\n",
       "    </tr>\n",
       "    <tr>\n",
       "      <th>1</th>\n",
       "      <td>M1C</td>\n",
       "      <td>43.784535</td>\n",
       "      <td>-79.160497</td>\n",
       "    </tr>\n",
       "    <tr>\n",
       "      <th>2</th>\n",
       "      <td>M1E</td>\n",
       "      <td>43.763573</td>\n",
       "      <td>-79.188711</td>\n",
       "    </tr>\n",
       "    <tr>\n",
       "      <th>3</th>\n",
       "      <td>M1G</td>\n",
       "      <td>43.770992</td>\n",
       "      <td>-79.216917</td>\n",
       "    </tr>\n",
       "    <tr>\n",
       "      <th>4</th>\n",
       "      <td>M1H</td>\n",
       "      <td>43.773136</td>\n",
       "      <td>-79.239476</td>\n",
       "    </tr>\n",
       "  </tbody>\n",
       "</table>\n",
       "</div>"
      ],
      "text/plain": [
       "  Postal Code   Latitude  Longitude\n",
       "0         M1B  43.806686 -79.194353\n",
       "1         M1C  43.784535 -79.160497\n",
       "2         M1E  43.763573 -79.188711\n",
       "3         M1G  43.770992 -79.216917\n",
       "4         M1H  43.773136 -79.239476"
      ]
     },
     "execution_count": 90,
     "metadata": {},
     "output_type": "execute_result"
    }
   ],
   "source": [
    "geospatial_toronto = pd.read_csv('Toronto_Geospatial_Coordinates.csv')\n",
    "geospatial_toronto.head()"
   ]
  },
  {
   "cell_type": "markdown",
   "metadata": {},
   "source": [
    "<h3>Merge geospatial coordinates to toronto DataFrame</h3>\n",
    "\n",
    "Merging 'geospatial_toronto' to 'df_cleaned' with key 'Postal Code' and save it to new DataFrame 'df_toronto'"
   ]
  },
  {
   "cell_type": "code",
   "execution_count": 95,
   "metadata": {},
   "outputs": [
    {
     "data": {
      "text/html": [
       "<div>\n",
       "<style scoped>\n",
       "    .dataframe tbody tr th:only-of-type {\n",
       "        vertical-align: middle;\n",
       "    }\n",
       "\n",
       "    .dataframe tbody tr th {\n",
       "        vertical-align: top;\n",
       "    }\n",
       "\n",
       "    .dataframe thead th {\n",
       "        text-align: right;\n",
       "    }\n",
       "</style>\n",
       "<table border=\"1\" class=\"dataframe\">\n",
       "  <thead>\n",
       "    <tr style=\"text-align: right;\">\n",
       "      <th></th>\n",
       "      <th>Postal Code</th>\n",
       "      <th>Borough</th>\n",
       "      <th>Neighbourhood</th>\n",
       "      <th>Latitude</th>\n",
       "      <th>Longitude</th>\n",
       "    </tr>\n",
       "  </thead>\n",
       "  <tbody>\n",
       "    <tr>\n",
       "      <th>0</th>\n",
       "      <td>M3A</td>\n",
       "      <td>North York</td>\n",
       "      <td>Parkwoods</td>\n",
       "      <td>43.753259</td>\n",
       "      <td>-79.329656</td>\n",
       "    </tr>\n",
       "    <tr>\n",
       "      <th>1</th>\n",
       "      <td>M4A</td>\n",
       "      <td>North York</td>\n",
       "      <td>Victoria Village</td>\n",
       "      <td>43.725882</td>\n",
       "      <td>-79.315572</td>\n",
       "    </tr>\n",
       "    <tr>\n",
       "      <th>2</th>\n",
       "      <td>M5A</td>\n",
       "      <td>Downtown Toronto</td>\n",
       "      <td>Regent Park, Harbourfront</td>\n",
       "      <td>43.654260</td>\n",
       "      <td>-79.360636</td>\n",
       "    </tr>\n",
       "    <tr>\n",
       "      <th>3</th>\n",
       "      <td>M6A</td>\n",
       "      <td>North York</td>\n",
       "      <td>Lawrence Manor, Lawrence Heights</td>\n",
       "      <td>43.718518</td>\n",
       "      <td>-79.464763</td>\n",
       "    </tr>\n",
       "    <tr>\n",
       "      <th>4</th>\n",
       "      <td>M7A</td>\n",
       "      <td>Downtown Toronto</td>\n",
       "      <td>Queen's Park, Ontario Provincial Government</td>\n",
       "      <td>43.662301</td>\n",
       "      <td>-79.389494</td>\n",
       "    </tr>\n",
       "    <tr>\n",
       "      <th>5</th>\n",
       "      <td>M9A</td>\n",
       "      <td>Etobicoke</td>\n",
       "      <td>Islington Avenue, Humber Valley Village</td>\n",
       "      <td>43.667856</td>\n",
       "      <td>-79.532242</td>\n",
       "    </tr>\n",
       "    <tr>\n",
       "      <th>6</th>\n",
       "      <td>M1B</td>\n",
       "      <td>Scarborough</td>\n",
       "      <td>Malvern, Rouge</td>\n",
       "      <td>43.806686</td>\n",
       "      <td>-79.194353</td>\n",
       "    </tr>\n",
       "    <tr>\n",
       "      <th>7</th>\n",
       "      <td>M3B</td>\n",
       "      <td>North York</td>\n",
       "      <td>Don Mills</td>\n",
       "      <td>43.745906</td>\n",
       "      <td>-79.352188</td>\n",
       "    </tr>\n",
       "  </tbody>\n",
       "</table>\n",
       "</div>"
      ],
      "text/plain": [
       "  Postal Code           Borough                                Neighbourhood  \\\n",
       "0         M3A        North York                                    Parkwoods   \n",
       "1         M4A        North York                             Victoria Village   \n",
       "2         M5A  Downtown Toronto                    Regent Park, Harbourfront   \n",
       "3         M6A        North York             Lawrence Manor, Lawrence Heights   \n",
       "4         M7A  Downtown Toronto  Queen's Park, Ontario Provincial Government   \n",
       "5         M9A         Etobicoke      Islington Avenue, Humber Valley Village   \n",
       "6         M1B       Scarborough                               Malvern, Rouge   \n",
       "7         M3B        North York                                    Don Mills   \n",
       "\n",
       "    Latitude  Longitude  \n",
       "0  43.753259 -79.329656  \n",
       "1  43.725882 -79.315572  \n",
       "2  43.654260 -79.360636  \n",
       "3  43.718518 -79.464763  \n",
       "4  43.662301 -79.389494  \n",
       "5  43.667856 -79.532242  \n",
       "6  43.806686 -79.194353  \n",
       "7  43.745906 -79.352188  "
      ]
     },
     "execution_count": 95,
     "metadata": {},
     "output_type": "execute_result"
    }
   ],
   "source": [
    "df_toronto = pd.merge(df_cleaned, geospatial_toronto, how= 'inner', on ='Postal Code')\n",
    "df_toronto.head(8)"
   ]
  },
  {
   "cell_type": "markdown",
   "metadata": {},
   "source": [
    "<h3>Create a Toronto Map</h3>"
   ]
  },
  {
   "cell_type": "markdown",
   "metadata": {},
   "source": [
    "<h4>Get Toronto Coordinatesp</h4>"
   ]
  },
  {
   "cell_type": "code",
   "execution_count": 96,
   "metadata": {},
   "outputs": [
    {
     "name": "stdout",
     "output_type": "stream",
     "text": [
      "The geograpical coordinate of Toronto are 43.6534817, -79.3839347.\n"
     ]
    }
   ],
   "source": [
    "address = 'Toronto, CA'\n",
    "\n",
    "geolocator = Nominatim(user_agent=\"tor_explorer\")\n",
    "location = geolocator.geocode(address)\n",
    "lat = location.latitude\n",
    "lng = location.longitude\n",
    "print('The geograpical coordinate of Toronto are {}, {}.'.format(lat, lng))"
   ]
  },
  {
   "cell_type": "markdown",
   "metadata": {},
   "source": [
    "<h4>Create a map of New York with neighborhoods superimposed on top.</h4>"
   ]
  },
  {
   "cell_type": "code",
   "execution_count": 100,
   "metadata": {},
   "outputs": [
    {
     "data": {
      "text/html": [
       "<div style=\"width:100%;\"><div style=\"position:relative;width:100%;height:0;padding-bottom:60%;\"><span style=\"color:#565656\">Make this Notebook Trusted to load map: File -> Trust Notebook</span><iframe src=\"about:blank\" style=\"position:absolute;width:100%;height:100%;left:0;top:0;border:none !important;\" data-html=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 onload=\"this.contentDocument.open();this.contentDocument.write(atob(this.getAttribute('data-html')));this.contentDocument.close();\" allowfullscreen webkitallowfullscreen mozallowfullscreen></iframe></div></div>"
      ],
      "text/plain": [
       "<folium.folium.Map at 0x1f1d0ecc688>"
      ]
     },
     "execution_count": 100,
     "metadata": {},
     "output_type": "execute_result"
    }
   ],
   "source": [
    "# create map of Manhattan using latitude and longitude values\n",
    "map_toronto = folium.Map(location=[lat, lng], zoom_start=10)\n",
    "\n",
    "# add markers to map\n",
    "for lat, lng, postalcode, borough in zip(df_toronto['Latitude'], df_toronto['Longitude'], df_toronto['Postal Code'], df_toronto['Borough']):\n",
    "    label = '{}, {}'.format(postalcode, borough)\n",
    "    label = folium.Popup(label, parse_html=True)\n",
    "    folium.CircleMarker(\n",
    "        [lat, lng],\n",
    "        radius=5,\n",
    "        popup=label,\n",
    "        color='blue',\n",
    "        fill=True,\n",
    "        fill_color='#3186cc',\n",
    "        fill_opacity=0.7,\n",
    "        parse_html=False).add_to(map_toronto)  \n",
    "    \n",
    "map_toronto"
   ]
  },
  {
   "cell_type": "code",
   "execution_count": null,
   "metadata": {},
   "outputs": [],
   "source": []
  }
 ],
 "metadata": {
  "kernelspec": {
   "display_name": "Python 3",
   "language": "python",
   "name": "python3"
  },
  "language_info": {
   "codemirror_mode": {
    "name": "ipython",
    "version": 3
   },
   "file_extension": ".py",
   "mimetype": "text/x-python",
   "name": "python",
   "nbconvert_exporter": "python",
   "pygments_lexer": "ipython3",
   "version": "3.7.6"
  }
 },
 "nbformat": 4,
 "nbformat_minor": 4
}
